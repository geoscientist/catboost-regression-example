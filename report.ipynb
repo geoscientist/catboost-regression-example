{
 "cells": [
  {
   "cell_type": "code",
   "execution_count": 46,
   "metadata": {},
   "outputs": [],
   "source": [
    "import numpy as np\n",
    "from scipy.spatial.distance import cdist\n",
    "import numbers\n",
    "import pandas as pd\n",
    "from pandas_profiling import ProfileReport\n",
    "import seaborn as sns\n",
    "import matplotlib.pyplot as plt\n",
    "from sklearn.model_selection import train_test_split, GridSearchCV\n",
    "from catboost import CatBoostRegressor, Pool\n",
    "%matplotlib inline"
   ]
  },
  {
   "cell_type": "code",
   "execution_count": 2,
   "metadata": {},
   "outputs": [],
   "source": [
    "data = pd.read_csv('1111.csv', parse_dates=True)"
   ]
  },
  {
   "cell_type": "code",
   "execution_count": 3,
   "metadata": {},
   "outputs": [
    {
     "data": {
      "text/html": [
       "<div>\n",
       "<style scoped>\n",
       "    .dataframe tbody tr th:only-of-type {\n",
       "        vertical-align: middle;\n",
       "    }\n",
       "\n",
       "    .dataframe tbody tr th {\n",
       "        vertical-align: top;\n",
       "    }\n",
       "\n",
       "    .dataframe thead th {\n",
       "        text-align: right;\n",
       "    }\n",
       "</style>\n",
       "<table border=\"1\" class=\"dataframe\">\n",
       "  <thead>\n",
       "    <tr style=\"text-align: right;\">\n",
       "      <th></th>\n",
       "      <th>Скважина</th>\n",
       "      <th>Дата</th>\n",
       "      <th>ГТМ</th>\n",
       "      <th>Метод</th>\n",
       "      <th>Характер работы</th>\n",
       "      <th>Состояние</th>\n",
       "      <th>Время работы, ч</th>\n",
       "      <th>Время накопления</th>\n",
       "      <th>Нефть, т</th>\n",
       "      <th>Попутный газ, м3</th>\n",
       "      <th>...</th>\n",
       "      <th>Пластовое давление начальное</th>\n",
       "      <th>Характеристический дебит жидкости</th>\n",
       "      <th>Время в работе</th>\n",
       "      <th>Время в накоплении</th>\n",
       "      <th>ГП - Забойное давление</th>\n",
       "      <th>ГП(ИДН) Дебит жидкости</th>\n",
       "      <th>ГП(ИДН) Дебит жидкости скорр-ый</th>\n",
       "      <th>ГП(ИДН) Прирост дефита нефти</th>\n",
       "      <th>ГП(ГРП) Дебит жидкости</th>\n",
       "      <th>ГП(ГРП) Дебит жидкости скорр-ый</th>\n",
       "    </tr>\n",
       "  </thead>\n",
       "  <tbody>\n",
       "    <tr>\n",
       "      <th>0</th>\n",
       "      <td>53514b4c4150ad897d82dd7d42cfc1a5</td>\n",
       "      <td>2012-03-30</td>\n",
       "      <td>0.0</td>\n",
       "      <td>ЭЦН/ФОН</td>\n",
       "      <td>НЕФ</td>\n",
       "      <td>РАБ.</td>\n",
       "      <td>301.0</td>\n",
       "      <td>0.0</td>\n",
       "      <td>278,55</td>\n",
       "      <td>10028.0</td>\n",
       "      <td>...</td>\n",
       "      <td>NaN</td>\n",
       "      <td>NaN</td>\n",
       "      <td>NaN</td>\n",
       "      <td>NaN</td>\n",
       "      <td>NaN</td>\n",
       "      <td>NaN</td>\n",
       "      <td>NaN</td>\n",
       "      <td>NaN</td>\n",
       "      <td>NaN</td>\n",
       "      <td>NaN</td>\n",
       "    </tr>\n",
       "    <tr>\n",
       "      <th>1</th>\n",
       "      <td>53514b4c4150ad897d82dd7d42cfc1a5</td>\n",
       "      <td>2012-04-30</td>\n",
       "      <td>0.0</td>\n",
       "      <td>ЭЦН</td>\n",
       "      <td>НЕФ</td>\n",
       "      <td>РАБ.</td>\n",
       "      <td>720.0</td>\n",
       "      <td>0.0</td>\n",
       "      <td>1074,74</td>\n",
       "      <td>38690.0</td>\n",
       "      <td>...</td>\n",
       "      <td>231.0</td>\n",
       "      <td>847.308443</td>\n",
       "      <td>0.0</td>\n",
       "      <td>0.0</td>\n",
       "      <td>35.0</td>\n",
       "      <td>96.493251</td>\n",
       "      <td>96.493251</td>\n",
       "      <td>6.061904</td>\n",
       "      <td>363.692491</td>\n",
       "      <td>363.692491</td>\n",
       "    </tr>\n",
       "    <tr>\n",
       "      <th>2</th>\n",
       "      <td>53514b4c4150ad897d82dd7d42cfc1a5</td>\n",
       "      <td>2012-05-30</td>\n",
       "      <td>0.0</td>\n",
       "      <td>ЭЦН</td>\n",
       "      <td>НЕФ</td>\n",
       "      <td>РАБ.</td>\n",
       "      <td>744.0</td>\n",
       "      <td>0.0</td>\n",
       "      <td>1046,80</td>\n",
       "      <td>37685.0</td>\n",
       "      <td>...</td>\n",
       "      <td>231.0</td>\n",
       "      <td>590.462454</td>\n",
       "      <td>0.0</td>\n",
       "      <td>0.0</td>\n",
       "      <td>36.0</td>\n",
       "      <td>65.665158</td>\n",
       "      <td>65.665158</td>\n",
       "      <td>1.483960</td>\n",
       "      <td>272.727847</td>\n",
       "      <td>272.727847</td>\n",
       "    </tr>\n",
       "    <tr>\n",
       "      <th>3</th>\n",
       "      <td>53514b4c4150ad897d82dd7d42cfc1a5</td>\n",
       "      <td>2012-06-30</td>\n",
       "      <td>0.0</td>\n",
       "      <td>ЭЦН</td>\n",
       "      <td>НЕФ</td>\n",
       "      <td>РАБ.</td>\n",
       "      <td>744.0</td>\n",
       "      <td>0.0</td>\n",
       "      <td>900,95</td>\n",
       "      <td>32434.0</td>\n",
       "      <td>...</td>\n",
       "      <td>231.0</td>\n",
       "      <td>644.968860</td>\n",
       "      <td>0.0</td>\n",
       "      <td>0.0</td>\n",
       "      <td>35.4</td>\n",
       "      <td>53.838648</td>\n",
       "      <td>53.838648</td>\n",
       "      <td>0.510737</td>\n",
       "      <td>218.225582</td>\n",
       "      <td>218.225582</td>\n",
       "    </tr>\n",
       "    <tr>\n",
       "      <th>4</th>\n",
       "      <td>53514b4c4150ad897d82dd7d42cfc1a5</td>\n",
       "      <td>2012-07-31</td>\n",
       "      <td>0.0</td>\n",
       "      <td>ЭЦН</td>\n",
       "      <td>НЕФ</td>\n",
       "      <td>РАБ.</td>\n",
       "      <td>720.0</td>\n",
       "      <td>0.0</td>\n",
       "      <td>761,72</td>\n",
       "      <td>27422.0</td>\n",
       "      <td>...</td>\n",
       "      <td>231.0</td>\n",
       "      <td>583.248775</td>\n",
       "      <td>0.0</td>\n",
       "      <td>0.0</td>\n",
       "      <td>37.6</td>\n",
       "      <td>47.981737</td>\n",
       "      <td>47.981737</td>\n",
       "      <td>0.640583</td>\n",
       "      <td>199.966616</td>\n",
       "      <td>199.966616</td>\n",
       "    </tr>\n",
       "  </tbody>\n",
       "</table>\n",
       "<p>5 rows × 115 columns</p>\n",
       "</div>"
      ],
      "text/plain": [
       "                           Скважина        Дата  ГТМ    Метод Характер работы  \\\n",
       "0  53514b4c4150ad897d82dd7d42cfc1a5  2012-03-30  0.0  ЭЦН/ФОН             НЕФ   \n",
       "1  53514b4c4150ad897d82dd7d42cfc1a5  2012-04-30  0.0      ЭЦН             НЕФ   \n",
       "2  53514b4c4150ad897d82dd7d42cfc1a5  2012-05-30  0.0      ЭЦН             НЕФ   \n",
       "3  53514b4c4150ad897d82dd7d42cfc1a5  2012-06-30  0.0      ЭЦН             НЕФ   \n",
       "4  53514b4c4150ad897d82dd7d42cfc1a5  2012-07-31  0.0      ЭЦН             НЕФ   \n",
       "\n",
       "  Состояние  Время работы, ч  Время накопления Нефть, т  Попутный газ, м3  \\\n",
       "0      РАБ.            301.0               0.0   278,55           10028.0   \n",
       "1      РАБ.            720.0               0.0  1074,74           38690.0   \n",
       "2      РАБ.            744.0               0.0  1046,80           37685.0   \n",
       "3      РАБ.            744.0               0.0   900,95           32434.0   \n",
       "4      РАБ.            720.0               0.0   761,72           27422.0   \n",
       "\n",
       "                ...                Пластовое давление начальное  \\\n",
       "0               ...                                         NaN   \n",
       "1               ...                                       231.0   \n",
       "2               ...                                       231.0   \n",
       "3               ...                                       231.0   \n",
       "4               ...                                       231.0   \n",
       "\n",
       "   Характеристический дебит жидкости  Время в работе Время в накоплении  \\\n",
       "0                                NaN             NaN                NaN   \n",
       "1                         847.308443             0.0                0.0   \n",
       "2                         590.462454             0.0                0.0   \n",
       "3                         644.968860             0.0                0.0   \n",
       "4                         583.248775             0.0                0.0   \n",
       "\n",
       "   ГП - Забойное давление ГП(ИДН) Дебит жидкости  \\\n",
       "0                     NaN                    NaN   \n",
       "1                    35.0              96.493251   \n",
       "2                    36.0              65.665158   \n",
       "3                    35.4              53.838648   \n",
       "4                    37.6              47.981737   \n",
       "\n",
       "  ГП(ИДН) Дебит жидкости скорр-ый ГП(ИДН) Прирост дефита нефти  \\\n",
       "0                             NaN                          NaN   \n",
       "1                       96.493251                     6.061904   \n",
       "2                       65.665158                     1.483960   \n",
       "3                       53.838648                     0.510737   \n",
       "4                       47.981737                     0.640583   \n",
       "\n",
       "  ГП(ГРП) Дебит жидкости ГП(ГРП) Дебит жидкости скорр-ый  \n",
       "0                    NaN                             NaN  \n",
       "1             363.692491                      363.692491  \n",
       "2             272.727847                      272.727847  \n",
       "3             218.225582                      218.225582  \n",
       "4             199.966616                      199.966616  \n",
       "\n",
       "[5 rows x 115 columns]"
      ]
     },
     "execution_count": 3,
     "metadata": {},
     "output_type": "execute_result"
    }
   ],
   "source": [
    "data.head()"
   ]
  },
  {
   "cell_type": "code",
   "execution_count": 4,
   "metadata": {},
   "outputs": [
    {
     "name": "stdout",
     "output_type": "stream",
     "text": [
      "<class 'pandas.core.frame.DataFrame'>\n",
      "RangeIndex: 3357 entries, 0 to 3356\n",
      "Columns: 115 entries, Скважина to ГП(ГРП) Дебит жидкости скорр-ый\n",
      "dtypes: float64(82), object(33)\n",
      "memory usage: 2.9+ MB\n"
     ]
    }
   ],
   "source": [
    "data.info()"
   ]
  },
  {
   "cell_type": "markdown",
   "metadata": {},
   "source": [
    "Набор данных включает 115 атрибутов, 82 вещественных атрибута и 33 категориальных.  \n",
    "**Задача - построение регрессионной модели с целью прогоноза переменной 'Нефть, т'. Метрика качества - Mean Absolute Error (MAE)**"
   ]
  },
  {
   "cell_type": "code",
   "execution_count": null,
   "metadata": {},
   "outputs": [],
   "source": [
    "data['Нефть, т'].hist(bins=100)"
   ]
  },
  {
   "cell_type": "markdown",
   "metadata": {},
   "source": [
    "## I. Преобразование и очистка данных"
   ]
  },
  {
   "cell_type": "markdown",
   "metadata": {},
   "source": [
    "Проанализируем наличие отсутствующих значение в прогнозируемой переменной 'Нефть, т'. В случае наличия пропусков удалим эти записи из набора данных"
   ]
  },
  {
   "cell_type": "code",
   "execution_count": 5,
   "metadata": {},
   "outputs": [
    {
     "data": {
      "text/plain": [
       "461"
      ]
     },
     "execution_count": 5,
     "metadata": {},
     "output_type": "execute_result"
    }
   ],
   "source": [
    "data[\"Нефть, т\"] = data[\"Нефть, т\"].str.replace(\",\",\".\").astype(float)\n",
    "sum(np.isnan(data[\"Нефть, т\"]))"
   ]
  },
  {
   "cell_type": "markdown",
   "metadata": {},
   "source": [
    "461 запись из 3357 не содержит значения прогнозируемой переменной"
   ]
  },
  {
   "cell_type": "code",
   "execution_count": 6,
   "metadata": {},
   "outputs": [],
   "source": [
    "data = data[np.isfinite(data[\"Нефть, т\"])]\n",
    "data = data.reset_index(drop=True)"
   ]
  },
  {
   "cell_type": "markdown",
   "metadata": {},
   "source": [
    "Выполним преобразование ряда атрибутов к корректному типу данных"
   ]
  },
  {
   "cell_type": "code",
   "execution_count": 7,
   "metadata": {},
   "outputs": [],
   "source": [
    "data[\"Дата\"] = pd.to_datetime(data[\"Дата\"])\n",
    "data[\"Обводненность (вес), %\"] = data[\"Обводненность (вес), %\"].str.replace(\",\",\".\").astype(float)\n",
    "data[\"Приемистость, м3/сут\"] = data[\"Приемистость, м3/сут\"].str.replace(\",\",\".\").astype(float)\n",
    "data[\"Добыча растворенного газа, м3\"] = data[\"Добыча растворенного газа, м3\"].str.replace(\",\",\".\").astype(float)\n",
    "data[\"Дебит попутного газа, м3/сут\"] = data[\"Дебит попутного газа, м3/сут\"].str.replace(\",\",\".\").astype(float)\n",
    "data[\"Конденсат, т\"] = data[\"Конденсат, т\"].str.replace(\",\",\".\").astype(float)\n",
    "data[\"Дебит конденсата\"] = data[\"Дебит конденсата\"].str.replace(\",\",\".\").astype(float)"
   ]
  },
  {
   "cell_type": "markdown",
   "metadata": {},
   "source": [
    "Проанализируем полноту и целостность данных с использованием инструмента pandas-profiling.  \n",
    "Данный инструмент выполняет комплексный анализ данных на предмет пропусков, поиска константных и коллинеарных признаков"
   ]
  },
  {
   "cell_type": "code",
   "execution_count": 8,
   "metadata": {},
   "outputs": [
    {
     "data": {
      "text/plain": [
       "['Вязкость жидкости в пласт. условиях',\n",
       " 'ГП(ГРП) Дебит жидкости',\n",
       " 'ГП(ГРП) Дебит жидкости скорр-ый',\n",
       " 'ГП(ИДН) Дебит жидкости',\n",
       " 'ГП(ИДН) Дебит жидкости скорр-ый',\n",
       " 'Глубина спуска доп. оборудования',\n",
       " 'Дата ввода в эксплуатацию',\n",
       " 'Дата запуска после КРС',\n",
       " 'Дата останова',\n",
       " 'Дата пуска',\n",
       " 'Дебит попутного газа, м3/сут',\n",
       " 'Добыча растворенного газа, м3',\n",
       " 'Плотность нефти']"
      ]
     },
     "execution_count": 8,
     "metadata": {},
     "output_type": "execute_result"
    }
   ],
   "source": [
    "profile = ProfileReport(data)\n",
    "rejected_vars = profile.get_rejected_variables()\n",
    "rejected_vars"
   ]
  },
  {
   "cell_type": "markdown",
   "metadata": {},
   "source": [
    "Удалим из набора данных константные и коллинеарные признаки"
   ]
  },
  {
   "cell_type": "code",
   "execution_count": 9,
   "metadata": {},
   "outputs": [],
   "source": [
    "data = data.drop(columns=rejected_vars)\n",
    "data = data.drop(columns=['Конденсат, т', 'Дебит конденсата', 'Фирма ГРП', 'Тип газосепаратора', 'Станок-качалка', 'Природный газ, м3', 'Газ из газовой шапки, м3',\n",
    "                          'Коэффициент сепарации', 'Вязкость воды в пластовых условиях', 'Радиус контура питания', 'Фонтан через насос', 'Число качаний ШГН',\n",
    "                         'Длина хода плунжера ШГН', 'Диаметр плунжера', 'Коэффициент подачи насоса', 'КН закрепленный'])"
   ]
  },
  {
   "cell_type": "markdown",
   "metadata": {},
   "source": [
    "Признаки 'Причина простоя' и 'Агент закачки' содержат дубликаты значений, записанные с ошибками и в разных регистрах, необходимо привести значения к единому знаменателю"
   ]
  },
  {
   "cell_type": "code",
   "execution_count": 10,
   "metadata": {},
   "outputs": [],
   "source": [
    "duplicates_p = {\"ОСВОЕНИЕ ПОСЛЕ БУРЕНИЯ\": \"Освоение после бурения\",\n",
    "             \"ПРИНЯТА В ОСВОЕНИЕ\": \"Принята в освоение\",\n",
    "             \"НЕТ ПРИЕМИСТОСТИ\": \"Нет приемистости\",\n",
    "             \"ПЕРЕВОД В ППД\" : \"Перевод в ППД\"}\n",
    "for key, value in duplicates_p.items():\n",
    "    data.loc[data[\"Причина простоя\"] == key,\"Причина простоя\"] = value"
   ]
  },
  {
   "cell_type": "code",
   "execution_count": 11,
   "metadata": {},
   "outputs": [],
   "source": [
    "duplicates_a = {\"Вода подтоварная,м.куб.,\": \"Вода подтоварная,м.куб.\"}\n",
    "for key, value in duplicates_a.items():\n",
    "    data.loc[data[\"Агент закачки\"] == key,\"Агент закачки\"] = value"
   ]
  },
  {
   "cell_type": "markdown",
   "metadata": {},
   "source": [
    "## II. Обработка категориальных признаков и заполнение пропусков"
   ]
  },
  {
   "cell_type": "markdown",
   "metadata": {},
   "source": [
    "Пропуски в категориальных признаках заполним в 2 фазы:  \n",
    "- модальное значение признака по записям в рамках одной скважины;  \n",
    "- модальное значение для признака в целом по выборке."
   ]
  },
  {
   "cell_type": "code",
   "execution_count": 12,
   "metadata": {},
   "outputs": [],
   "source": [
    "# вариант с заполнением модой по скважине и по атрибуту\n",
    "cat_features_indices = np.where(data.dtypes == 'object')[0]\n",
    "cat_features_names = data.columns[cat_features_indices]\n",
    "for i in data['Скважина'].unique():\n",
    "    for j in cat_features_names:\n",
    "        if data.loc[data['Скважина']==i, j].any():\n",
    "            mode = data.loc[data['Скважина']==i, j].mode()[0]\n",
    "            data.loc[data['Скважина']==i, j] = data.loc[data['Скважина']==i, j].fillna(mode)"
   ]
  },
  {
   "cell_type": "code",
   "execution_count": 13,
   "metadata": {},
   "outputs": [],
   "source": [
    "# заполнение оставшихся пропусков модальным значением по всей выборке\n",
    "for i in cat_features_indices:\n",
    "    data.iloc[:, i] = data.iloc[:, i].fillna(data.iloc[:, i].mode()[0])"
   ]
  },
  {
   "cell_type": "markdown",
   "metadata": {},
   "source": [
    "Для вещественных признаков заполним пропуски средним значением переменной в рамках одной скважины:"
   ]
  },
  {
   "cell_type": "code",
   "execution_count": 14,
   "metadata": {},
   "outputs": [
    {
     "name": "stderr",
     "output_type": "stream",
     "text": [
      "c:\\users\\aleksey\\appdata\\local\\programs\\python\\python36\\lib\\site-packages\\ipykernel_launcher.py:5: RuntimeWarning: Mean of empty slice\n",
      "  \"\"\"\n"
     ]
    }
   ],
   "source": [
    "# заполнение пропущенных значений по скважинам, если для скважины значение постоянное\n",
    "for i in data['Скважина'].unique():\n",
    "    for j in data.columns:\n",
    "        if data[j].dtype == 'float':\n",
    "            data.loc[data['Скважина']==i, j] = np.nanmean(data.loc[data['Скважина']==i, j])"
   ]
  },
  {
   "cell_type": "markdown",
   "metadata": {},
   "source": [
    "Оставшиеся пропуски в вещественных переменных заполним с использованием метода K-ближайших соседей на основании данных без пропусков.  \n",
    "Для этого используем функцию knn_impute с github https://gist.github.com/YohanObadia/b310793cd22a4427faaadd9c381a5850"
   ]
  },
  {
   "cell_type": "code",
   "execution_count": 15,
   "metadata": {},
   "outputs": [],
   "source": [
    "def distance_matrix(data, numeric_distance = \"euclidean\", categorical_distance = \"jaccard\"):\n",
    "    \"\"\" Compute the pairwise distance attribute by attribute in order to account for different variables type:\n",
    "        - Continuous\n",
    "        - Categorical\n",
    "        For ordinal values, provide a numerical representation taking the order into account.\n",
    "        Categorical variables are transformed into a set of binary ones.\n",
    "        If both continuous and categorical distance are provided, a Gower-like distance is computed and the numeric\n",
    "        variables are all normalized in the process.\n",
    "        If there are missing values, the mean is computed for numerical attributes and the mode for categorical ones.\n",
    "        \n",
    "        Note: If weighted-hamming distance is chosen, the computation time increases a lot since it is not coded in C \n",
    "        like other distance metrics provided by scipy.\n",
    "        @params:\n",
    "            - data                  = pandas dataframe to compute distances on.\n",
    "            - numeric_distances     = the metric to apply to continuous attributes.\n",
    "                                      \"euclidean\" and \"cityblock\" available.\n",
    "                                      Default = \"euclidean\"\n",
    "            - categorical_distances = the metric to apply to binary attributes.\n",
    "                                      \"jaccard\", \"hamming\", \"weighted-hamming\" and \"euclidean\"\n",
    "                                      available. Default = \"jaccard\"\n",
    "        @returns:\n",
    "            - the distance matrix\n",
    "    \"\"\"\n",
    "    possible_continuous_distances = [\"euclidean\", \"cityblock\"]\n",
    "    possible_binary_distances = [\"euclidean\", \"jaccard\", \"hamming\", \"weighted-hamming\"]\n",
    "    number_of_variables = data.shape[1]\n",
    "    number_of_observations = data.shape[0]\n",
    "\n",
    "    # Get the type of each attribute (Numeric or categorical)\n",
    "    is_numeric = [all(isinstance(n, numbers.Number) for n in data.iloc[:, i]) for i, x in enumerate(data)]\n",
    "    is_all_numeric = sum(is_numeric) == len(is_numeric)\n",
    "    is_all_categorical = sum(is_numeric) == 0\n",
    "    is_mixed_type = not is_all_categorical and not is_all_numeric\n",
    "\n",
    "    # Check the content of the distances parameter\n",
    "    if numeric_distance not in possible_continuous_distances:\n",
    "        print(\"The continuous distance \" + numeric_distance + \" is not supported.\")\n",
    "        return None\n",
    "    elif categorical_distance not in possible_binary_distances:\n",
    "        print(\"The binary distance \" + categorical_distance + \" is not supported.\")\n",
    "        return None\n",
    "\n",
    "    # Separate the data frame into categorical and numeric attributes and normalize numeric data\n",
    "    if is_mixed_type:\n",
    "        number_of_numeric_var = sum(is_numeric)\n",
    "        number_of_categorical_var = number_of_variables - number_of_numeric_var\n",
    "        data_numeric = data.iloc[:, is_numeric]\n",
    "        data_numeric = (data_numeric - data_numeric.mean()) / (data_numeric.max() - data_numeric.min())\n",
    "        data_categorical = data.iloc[:, [not x for x in is_numeric]]\n",
    "\n",
    "    # Replace missing values with column mean for numeric values and mode for categorical ones. With the mode, it\n",
    "    # triggers a warning: \"SettingWithCopyWarning: A value is trying to be set on a copy of a slice from a DataFrame\"\n",
    "    # but the value are properly replaced\n",
    "    if is_mixed_type:\n",
    "        data_numeric.fillna(data_numeric.mean(), inplace=True)\n",
    "        for x in data_categorical:\n",
    "            data_categorical[x].fillna(data_categorical[x].mode()[0], inplace=True)\n",
    "    elif is_all_numeric:\n",
    "        data.fillna(data.mean(), inplace=True)\n",
    "    else:\n",
    "        for x in data:\n",
    "            data[x].fillna(data[x].mode()[0], inplace=True)\n",
    "\n",
    "    # \"Dummifies\" categorical variables in place\n",
    "    if not is_all_numeric and not (categorical_distance == 'hamming' or categorical_distance == 'weighted-hamming'):\n",
    "        if is_mixed_type:\n",
    "            data_categorical = pd.get_dummies(data_categorical)\n",
    "        else:\n",
    "            data = pd.get_dummies(data)\n",
    "    elif not is_all_numeric and categorical_distance == 'hamming':\n",
    "        if is_mixed_type:\n",
    "            data_categorical = pd.DataFrame([pd.factorize(data_categorical[x])[0] for x in data_categorical]).transpose()\n",
    "        else:\n",
    "            data = pd.DataFrame([pd.factorize(data[x])[0] for x in data]).transpose()\n",
    "\n",
    "    if is_all_numeric:\n",
    "        result_matrix = cdist(data, data, metric=numeric_distance)\n",
    "    elif is_all_categorical:\n",
    "        if categorical_distance == \"weighted-hamming\":\n",
    "            result_matrix = weighted_hamming(data)\n",
    "        else:\n",
    "            result_matrix = cdist(data, data, metric=categorical_distance)\n",
    "    else:\n",
    "        result_numeric = cdist(data_numeric, data_numeric, metric=numeric_distance)\n",
    "        if categorical_distance == \"weighted-hamming\":\n",
    "            result_categorical = weighted_hamming(data_categorical)\n",
    "        else:\n",
    "            result_categorical = cdist(data_categorical, data_categorical, metric=categorical_distance)\n",
    "        result_matrix = np.array([[1.0*(result_numeric[i, j] * number_of_numeric_var + result_categorical[i, j] *\n",
    "                               number_of_categorical_var) / number_of_variables for j in range(number_of_observations)] for i in range(number_of_observations)])\n",
    "\n",
    "    # Fill the diagonal with NaN values\n",
    "    np.fill_diagonal(result_matrix, np.nan)\n",
    "\n",
    "    return pd.DataFrame(result_matrix)\n",
    "\n",
    "def knn_impute(target, attributes, k_neighbors, aggregation_method=\"mean\", numeric_distance=\"euclidean\",\n",
    "               categorical_distance=\"jaccard\", missing_neighbors_threshold = 0.5):\n",
    "    \"\"\" Replace the missing values within the target variable based on its k nearest neighbors identified with the\n",
    "        attributes variables. If more than 50% of its neighbors are also missing values, the value is not modified and\n",
    "        remains missing. If there is a problem in the parameters provided, returns None.\n",
    "        If to many neighbors also have missing values, leave the missing value of interest unchanged.\n",
    "        @params:\n",
    "            - target                        = a vector of n values with missing values that you want to impute. The length has\n",
    "                                              to be at least n = 3.\n",
    "            - attributes                    = a data frame of attributes with n rows to match the target variable\n",
    "            - k_neighbors                   = the number of neighbors to look at to impute the missing values. It has to be a\n",
    "                                              value between 1 and n.\n",
    "            - aggregation_method            = how to aggregate the values from the nearest neighbors (mean, median, mode)\n",
    "                                              Default = \"mean\"\n",
    "            - numeric_distances             = the metric to apply to continuous attributes.\n",
    "                                              \"euclidean\" and \"cityblock\" available.\n",
    "                                              Default = \"euclidean\"\n",
    "            - categorical_distances         = the metric to apply to binary attributes.\n",
    "                                              \"jaccard\", \"hamming\", \"weighted-hamming\" and \"euclidean\"\n",
    "                                              available. Default = \"jaccard\"\n",
    "            - missing_neighbors_threshold   = minimum of neighbors among the k ones that are not also missing to infer\n",
    "                                              the correct value. Default = 0.5\n",
    "        @returns:\n",
    "            target_completed        = the vector of target values with missing value replaced. If there is a problem\n",
    "                                      in the parameters, return None\n",
    "    \"\"\"\n",
    "\n",
    "    # Get useful variables\n",
    "    possible_aggregation_method = [\"mean\", \"median\", \"mode\"]\n",
    "    number_observations = len(target)\n",
    "    is_target_numeric = all(isinstance(n, numbers.Number) for n in target)\n",
    "\n",
    "    # Check for possible errors\n",
    "    if number_observations < 3:\n",
    "        print(\"Not enough observations.\")\n",
    "        return None\n",
    "    if attributes.shape[0] != number_observations:\n",
    "        print(\"The number of observations in the attributes variable is not matching the target variable length.\")\n",
    "        return None\n",
    "    if k_neighbors > number_observations or k_neighbors < 1:\n",
    "        print(\"The range of the number of neighbors is incorrect.\")\n",
    "        return None\n",
    "    if aggregation_method not in possible_aggregation_method:\n",
    "        print(\"The aggregation method is incorrect.\")\n",
    "        return None\n",
    "    if not is_target_numeric and aggregation_method != \"mode\":\n",
    "        print(\"The only method allowed for categorical target variable is the mode.\")\n",
    "        return None\n",
    "\n",
    "    # Make sure the data are in the right format\n",
    "    target = pd.DataFrame(target)\n",
    "    attributes = pd.DataFrame(attributes)\n",
    "\n",
    "    # Get the distance matrix and check whether no error was triggered when computing it\n",
    "    distances = distance_matrix(attributes, numeric_distance, categorical_distance)\n",
    "    if distances is None:\n",
    "        return None\n",
    "\n",
    "    # Get the closest points and compute the correct aggregation method\n",
    "    for i, value in enumerate(target.iloc[:, 0]):\n",
    "        if pd.isnull(value):\n",
    "            order = distances.iloc[i,:].values.argsort()[:k_neighbors]\n",
    "            closest_to_target = target.iloc[order, :]\n",
    "            missing_neighbors = [x for x  in closest_to_target.isnull().iloc[:, 0]]\n",
    "            # Compute the right aggregation method if at least more than 50% of the closest neighbors are not missing\n",
    "            if sum(missing_neighbors) >= missing_neighbors_threshold * k_neighbors:\n",
    "                continue\n",
    "            elif aggregation_method == \"mean\":\n",
    "                target.iloc[i] = np.ma.mean(np.ma.masked_array(closest_to_target,np.isnan(closest_to_target)))\n",
    "            elif aggregation_method == \"median\":\n",
    "                target.iloc[i] = np.ma.median(np.ma.masked_array(closest_to_target,np.isnan(closest_to_target)))\n",
    "            else:\n",
    "                target.iloc[i] = stats.mode(closest_to_target, nan_policy='omit')[0][0]\n",
    "\n",
    "    return target"
   ]
  },
  {
   "cell_type": "code",
   "execution_count": 16,
   "metadata": {},
   "outputs": [],
   "source": [
    "# определяем вещественные признаки с пропусками и без для последующего заполнения пропусками с использованием KNN\n",
    "fl_features_indices = np.where(data.dtypes == 'float')[0]\n",
    "fl_features = data.columns[fl_features_indices]\n",
    "nan_features = data.columns[data.isna().any()].tolist()"
   ]
  },
  {
   "cell_type": "code",
   "execution_count": 17,
   "metadata": {},
   "outputs": [],
   "source": [
    "knn_data = data.loc[:, fl_features]\n",
    "knn_data = knn_data.drop(columns=['Нефть, т'])\n",
    "impute_data = data.loc[:, nan_features]\n",
    "knn_data = knn_data.drop(columns=nan_features)"
   ]
  },
  {
   "cell_type": "code",
   "execution_count": 18,
   "metadata": {},
   "outputs": [],
   "source": [
    "for i in impute_data.columns:\n",
    "    impute_data.loc[:, i] = knn_impute(impute_data[i], knn_data, 20, missing_neighbors_threshold=1)"
   ]
  },
  {
   "cell_type": "code",
   "execution_count": 19,
   "metadata": {},
   "outputs": [],
   "source": [
    "#impute_data.info()"
   ]
  },
  {
   "cell_type": "markdown",
   "metadata": {},
   "source": [
    "Как мы видим, значительная часть пропусков в вещественных признаках оказалась заполнена. Обновим исходный набор данных:"
   ]
  },
  {
   "cell_type": "code",
   "execution_count": 20,
   "metadata": {},
   "outputs": [],
   "source": [
    "data.loc[:, impute_data.columns] = impute_data"
   ]
  },
  {
   "cell_type": "markdown",
   "metadata": {},
   "source": [
    "## III. Добавление новых признаков"
   ]
  },
  {
   "cell_type": "markdown",
   "metadata": {},
   "source": [
    "Из атрибута 'Дата' создадим два новых признака - 'Год' и 'Месяц'"
   ]
  },
  {
   "cell_type": "code",
   "execution_count": 21,
   "metadata": {},
   "outputs": [],
   "source": [
    "data['Год'] = pd.to_datetime(data['Дата']).map(lambda x: x.year)\n",
    "data['Месяц'] = pd.to_datetime(data['Дата']).map(lambda x: x.month)"
   ]
  },
  {
   "cell_type": "markdown",
   "metadata": {},
   "source": [
    "В рамках настоящего отчета ограничимся этими признаками, но следует отметить, что одно из важнейших направлений по дальнейшему повышению качества работы прогнозной модели - создание новых признаков и обогащение данных."
   ]
  },
  {
   "cell_type": "markdown",
   "metadata": {},
   "source": [
    "## IV. Построение базовой модели и выбор гиперпараметров"
   ]
  },
  {
   "cell_type": "markdown",
   "metadata": {},
   "source": [
    "В качестве базовой модели используем градиентный бустинг, реализованный в пакете CatBoost. Его отличает возможность обработки категориальных признаков без дополнительной предобработки (One Hot Encoding и др.)"
   ]
  },
  {
   "cell_type": "code",
   "execution_count": 22,
   "metadata": {},
   "outputs": [],
   "source": [
    "Y = data['Нефть, т']\n",
    "X = data.drop(columns=['Нефть, т', 'Дата'])"
   ]
  },
  {
   "cell_type": "code",
   "execution_count": 23,
   "metadata": {},
   "outputs": [],
   "source": [
    "cat_features_indices = np.where(X.dtypes == 'object')[0]"
   ]
  },
  {
   "cell_type": "code",
   "execution_count": 24,
   "metadata": {},
   "outputs": [],
   "source": [
    "X_train, X_valid, Y_train, Y_valid = train_test_split(X, Y, test_size=0.25, random_state=6)"
   ]
  },
  {
   "cell_type": "code",
   "execution_count": 25,
   "metadata": {},
   "outputs": [
    {
     "name": "stderr",
     "output_type": "stream",
     "text": [
      "learning rate is greater than 1. You probably need to decrease learning rate.\n",
      "learning rate is greater than 1. You probably need to decrease learning rate.\n",
      "learning rate is greater than 1. You probably need to decrease learning rate.\n",
      "learning rate is greater than 1. You probably need to decrease learning rate.\n"
     ]
    },
    {
     "data": {
      "text/plain": [
       "<catboost.core.CatBoostRegressor at 0x1de4c8ada90>"
      ]
     },
     "execution_count": 25,
     "metadata": {},
     "output_type": "execute_result"
    }
   ],
   "source": [
    "mdl = CatBoostRegressor(iterations=2000, learning_rate=4, loss_function='MAE', early_stopping_rounds=4)\n",
    "mdl.fit(X_train, Y_train, cat_features=cat_features_indices, eval_set=(X_valid, Y_valid), verbose=False)"
   ]
  },
  {
   "cell_type": "markdown",
   "metadata": {},
   "source": [
    "Посмотрим метрику качества модели:"
   ]
  },
  {
   "cell_type": "code",
   "execution_count": 26,
   "metadata": {},
   "outputs": [
    {
     "data": {
      "text/plain": [
       "{'learn': {'MAE': 23.280401912720823},\n",
       " 'validation_0': {'MAE': 29.597347215763442}}"
      ]
     },
     "execution_count": 26,
     "metadata": {},
     "output_type": "execute_result"
    }
   ],
   "source": [
    "mdl.best_score_"
   ]
  },
  {
   "cell_type": "markdown",
   "metadata": {},
   "source": [
    "Построим график реальных значений на тестовой выборке с прогнозными значениями"
   ]
  },
  {
   "cell_type": "code",
   "execution_count": 27,
   "metadata": {},
   "outputs": [
    {
     "data": {
      "text/plain": [
       "<matplotlib.axes._subplots.AxesSubplot at 0x1de4d31fe10>"
      ]
     },
     "execution_count": 27,
     "metadata": {},
     "output_type": "execute_result"
    },
    {
     "data": {
      "image/png": "[encoded data removed]",
      "text/plain": [
       "<Figure size 800x550 with 1 Axes>"
      ]
     },
     "metadata": {},
     "output_type": "display_data"
    }
   ],
   "source": [
    "preds = mdl.get_test_eval()\n",
    "sns.scatterplot(preds, Y_valid)"
   ]
  },
  {
   "cell_type": "markdown",
   "metadata": {},
   "source": [
    "Как мы можем убедиться, в целом модель достаточно хорошо прогнозирует данные по уровню добычи нефти. При этом отчетливо видно, что основные ошибки прогнозирования отмечаются для скважин с высоким уровнем добычи нефти (эти данные расположены в \"хвосте\" распределения прогнозируемой переменной, т.е. они достаточно слабо представлены в обучающей выборке)."
   ]
  },
  {
   "cell_type": "markdown",
   "metadata": {},
   "source": [
    "Далее выполним операцию подбора оптимальных гиперпараметров модели:"
   ]
  },
  {
   "cell_type": "code",
   "execution_count": 28,
   "metadata": {},
   "outputs": [],
   "source": [
    "gridParams = {\n",
    "    'learning_rate': [4, 6],\n",
    "    'iterations': [2000],\n",
    "    'objective' : ['MAE'],\n",
    "    'depth' : [4, 6, 8]\n",
    "    }"
   ]
  },
  {
   "cell_type": "code",
   "execution_count": 29,
   "metadata": {},
   "outputs": [],
   "source": [
    "grid = GridSearchCV(mdl, gridParams,\n",
    "                    cv=4)"
   ]
  },
  {
   "cell_type": "code",
   "execution_count": 51,
   "metadata": {},
   "outputs": [],
   "source": [
    "#grid.fit(X_train, Y_train, cat_features=cat_features_indices, early_stopping_rounds=3, verbose=False)"
   ]
  },
  {
   "cell_type": "markdown",
   "metadata": {},
   "source": [
    "## V. Интерпретация модели и выводы"
   ]
  },
  {
   "cell_type": "markdown",
   "metadata": {},
   "source": [
    "Для интерпретации полученной модели построим график важности признаков:"
   ]
  },
  {
   "cell_type": "code",
   "execution_count": 43,
   "metadata": {},
   "outputs": [],
   "source": [
    "feature_score = pd.DataFrame(list(zip(X_train.dtypes.index, mdl.get_feature_importance(Pool(X_train, label=Y_train, cat_features=cat_features_indices)))),\n",
    "                columns=['Feature','Score'])"
   ]
  },
  {
   "cell_type": "code",
   "execution_count": 44,
   "metadata": {},
   "outputs": [],
   "source": [
    "feature_score = feature_score.sort_values(by='Score', ascending=False, inplace=False, kind='quicksort', na_position='last')"
   ]
  },
  {
   "cell_type": "code",
   "execution_count": 49,
   "metadata": {},
   "outputs": [
    {
     "data": {
      "image/png": "[encoded data removed]",
      "text/plain": [
       "<Figure size 1512x720 with 1 Axes>"
      ]
     },
     "metadata": {
      "needs_background": "light"
     },
     "output_type": "display_data"
    }
   ],
   "source": [
    "plt.rcParams[\"figure.figsize\"] = (21,10)\n",
    "ax = feature_score.plot('Feature', 'Score', kind='bar', color='c')\n",
    "ax.set_title(\"Catboost Feature Importance Ranking\", fontsize = 14)\n",
    "ax.set_xlabel('')\n",
    "\n",
    "rects = ax.patches\n",
    "\n",
    "# get feature score as labels round to 2 decimal\n",
    "labels = feature_score['Score'].round(2)\n",
    "\n",
    "for rect, label in zip(rects, labels):\n",
    "    height = rect.get_height()\n",
    "    ax.text(rect.get_x() + rect.get_width()/2, height + 0.35, label, ha='center', va='bottom')\n",
    "\n",
    "plt.show()"
   ]
  },
  {
   "cell_type": "markdown",
   "metadata": {},
   "source": [
    "Наиболее значимыми параметрами модели прогнозирования уровня добычи нефти оказались следующие признаки:\n",
    "- Попутный газ;\n",
    "- Обводненность;\n",
    "- Год;\n",
    "- Время работы;\n",
    "- Пласт МЭР"
   ]
  },
  {
   "cell_type": "markdown",
   "metadata": {},
   "source": [
    "В заключении данного отчета хотелось бы отметить следующие моменты:\n",
    "    1. Для повышения качества прогнозного моделирования необходимо повышение качества ввода и сбора данных. Решение данной проблемы требует отдельного обследования,  \n",
    "    но в общем случае она решается внедрением корпоративных систем MDM и Data Qouality;\n",
    "    2. Не все передаваемые данные требуются для построения регрессионной модели, таким образом при внедрении модели в корпоративную архитектуру возможна оптимизация  \n",
    "    информационного потока за счет включения в него только важных атрибутов;\n",
    "    3. Возможно дальнейшее повышение качества полученной модели за счет привлечения новых данных, более углубленного анализа ошибок модели и расширенного подбора  \n",
    "    гиперпараметров"
   ]
  }
 ],
 "metadata": {
  "kernelspec": {
   "display_name": "Python 3",
   "language": "python",
   "name": "python3"
  },
  "language_info": {
   "codemirror_mode": {
    "name": "ipython",
    "version": 3
   },
   "file_extension": ".py",
   "mimetype": "text/x-python",
   "name": "python",
   "nbconvert_exporter": "python",
   "pygments_lexer": "ipython3",
   "version": "3.6.7"
  }
 },
 "nbformat": 4,
 "nbformat_minor": 2
}
